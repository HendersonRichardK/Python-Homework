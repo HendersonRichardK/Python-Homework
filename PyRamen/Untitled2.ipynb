{
 "cells": [
  {
   "cell_type": "code",
   "execution_count": 6,
   "metadata": {},
   "outputs": [
    {
     "name": "stdout",
     "output_type": "stream",
     "text": [
      "['edamame', 'appetizers']\n",
      "['edamame', 'appetizers', 'house salad', 'appetizers']\n",
      "['edamame', 'appetizers', 'house salad', 'appetizers', 'cucumber sunomono salad', 'appetizers']\n",
      "['edamame', 'appetizers', 'house salad', 'appetizers', 'cucumber sunomono salad', 'appetizers', 'hiyashi wakame seaweed salad', 'appetizers']\n",
      "['edamame', 'appetizers', 'house salad', 'appetizers', 'cucumber sunomono salad', 'appetizers', 'hiyashi wakame seaweed salad', 'appetizers', 'agedashi tofu', 'appetizers']\n",
      "['edamame', 'appetizers', 'house salad', 'appetizers', 'cucumber sunomono salad', 'appetizers', 'hiyashi wakame seaweed salad', 'appetizers', 'agedashi tofu', 'appetizers', 'hiyayakko tofu', 'appetizers']\n",
      "['edamame', 'appetizers', 'house salad', 'appetizers', 'cucumber sunomono salad', 'appetizers', 'hiyashi wakame seaweed salad', 'appetizers', 'agedashi tofu', 'appetizers', 'hiyayakko tofu', 'appetizers', 'pork floss bao', 'appetizers']\n",
      "['edamame', 'appetizers', 'house salad', 'appetizers', 'cucumber sunomono salad', 'appetizers', 'hiyashi wakame seaweed salad', 'appetizers', 'agedashi tofu', 'appetizers', 'hiyayakko tofu', 'appetizers', 'pork floss bao', 'appetizers', 'kakuni bao', 'appetizers']\n",
      "['edamame', 'appetizers', 'house salad', 'appetizers', 'cucumber sunomono salad', 'appetizers', 'hiyashi wakame seaweed salad', 'appetizers', 'agedashi tofu', 'appetizers', 'hiyayakko tofu', 'appetizers', 'pork floss bao', 'appetizers', 'kakuni bao', 'appetizers', 'edamame fried gyoza (vegan)', 'appetizers']\n",
      "['edamame', 'appetizers', 'house salad', 'appetizers', 'cucumber sunomono salad', 'appetizers', 'hiyashi wakame seaweed salad', 'appetizers', 'agedashi tofu', 'appetizers', 'hiyayakko tofu', 'appetizers', 'pork floss bao', 'appetizers', 'kakuni bao', 'appetizers', 'edamame fried gyoza (vegan)', 'appetizers', 'fried gyoza', 'appetizers']\n",
      "['edamame', 'appetizers', 'house salad', 'appetizers', 'cucumber sunomono salad', 'appetizers', 'hiyashi wakame seaweed salad', 'appetizers', 'agedashi tofu', 'appetizers', 'hiyayakko tofu', 'appetizers', 'pork floss bao', 'appetizers', 'kakuni bao', 'appetizers', 'edamame fried gyoza (vegan)', 'appetizers', 'fried gyoza', 'appetizers', 'takoyaki', 'appetizers']\n",
      "['edamame', 'appetizers', 'house salad', 'appetizers', 'cucumber sunomono salad', 'appetizers', 'hiyashi wakame seaweed salad', 'appetizers', 'agedashi tofu', 'appetizers', 'hiyayakko tofu', 'appetizers', 'pork floss bao', 'appetizers', 'kakuni bao', 'appetizers', 'edamame fried gyoza (vegan)', 'appetizers', 'fried gyoza', 'appetizers', 'takoyaki', 'appetizers', 'rock shrimp tempura', 'appetizers']\n",
      "['edamame', 'appetizers', 'house salad', 'appetizers', 'cucumber sunomono salad', 'appetizers', 'hiyashi wakame seaweed salad', 'appetizers', 'agedashi tofu', 'appetizers', 'hiyayakko tofu', 'appetizers', 'pork floss bao', 'appetizers', 'kakuni bao', 'appetizers', 'edamame fried gyoza (vegan)', 'appetizers', 'fried gyoza', 'appetizers', 'takoyaki', 'appetizers', 'rock shrimp tempura', 'appetizers', 'soft-shell crab tempura', 'appetizers']\n",
      "['edamame', 'appetizers', 'house salad', 'appetizers', 'cucumber sunomono salad', 'appetizers', 'hiyashi wakame seaweed salad', 'appetizers', 'agedashi tofu', 'appetizers', 'hiyayakko tofu', 'appetizers', 'pork floss bao', 'appetizers', 'kakuni bao', 'appetizers', 'edamame fried gyoza (vegan)', 'appetizers', 'fried gyoza', 'appetizers', 'takoyaki', 'appetizers', 'rock shrimp tempura', 'appetizers', 'soft-shell crab tempura', 'appetizers', 'ebi katsu shrimp bao', 'appetizers']\n",
      "['edamame', 'appetizers', 'house salad', 'appetizers', 'cucumber sunomono salad', 'appetizers', 'hiyashi wakame seaweed salad', 'appetizers', 'agedashi tofu', 'appetizers', 'hiyayakko tofu', 'appetizers', 'pork floss bao', 'appetizers', 'kakuni bao', 'appetizers', 'edamame fried gyoza (vegan)', 'appetizers', 'fried gyoza', 'appetizers', 'takoyaki', 'appetizers', 'rock shrimp tempura', 'appetizers', 'soft-shell crab tempura', 'appetizers', 'ebi katsu shrimp bao', 'appetizers', 'nagomi shoyu', 'entree']\n",
      "['edamame', 'appetizers', 'house salad', 'appetizers', 'cucumber sunomono salad', 'appetizers', 'hiyashi wakame seaweed salad', 'appetizers', 'agedashi tofu', 'appetizers', 'hiyayakko tofu', 'appetizers', 'pork floss bao', 'appetizers', 'kakuni bao', 'appetizers', 'edamame fried gyoza (vegan)', 'appetizers', 'fried gyoza', 'appetizers', 'takoyaki', 'appetizers', 'rock shrimp tempura', 'appetizers', 'soft-shell crab tempura', 'appetizers', 'ebi katsu shrimp bao', 'appetizers', 'nagomi shoyu', 'entree', 'shio ramen', 'entree']\n",
      "['edamame', 'appetizers', 'house salad', 'appetizers', 'cucumber sunomono salad', 'appetizers', 'hiyashi wakame seaweed salad', 'appetizers', 'agedashi tofu', 'appetizers', 'hiyayakko tofu', 'appetizers', 'pork floss bao', 'appetizers', 'kakuni bao', 'appetizers', 'edamame fried gyoza (vegan)', 'appetizers', 'fried gyoza', 'appetizers', 'takoyaki', 'appetizers', 'rock shrimp tempura', 'appetizers', 'soft-shell crab tempura', 'appetizers', 'ebi katsu shrimp bao', 'appetizers', 'nagomi shoyu', 'entree', 'shio ramen', 'entree', 'spicy miso ramen', 'entree']\n",
      "['edamame', 'appetizers', 'house salad', 'appetizers', 'cucumber sunomono salad', 'appetizers', 'hiyashi wakame seaweed salad', 'appetizers', 'agedashi tofu', 'appetizers', 'hiyayakko tofu', 'appetizers', 'pork floss bao', 'appetizers', 'kakuni bao', 'appetizers', 'edamame fried gyoza (vegan)', 'appetizers', 'fried gyoza', 'appetizers', 'takoyaki', 'appetizers', 'rock shrimp tempura', 'appetizers', 'soft-shell crab tempura', 'appetizers', 'ebi katsu shrimp bao', 'appetizers', 'nagomi shoyu', 'entree', 'shio ramen', 'entree', 'spicy miso ramen', 'entree', 'vegetarian spicy miso', 'entree']\n",
      "['edamame', 'appetizers', 'house salad', 'appetizers', 'cucumber sunomono salad', 'appetizers', 'hiyashi wakame seaweed salad', 'appetizers', 'agedashi tofu', 'appetizers', 'hiyayakko tofu', 'appetizers', 'pork floss bao', 'appetizers', 'kakuni bao', 'appetizers', 'edamame fried gyoza (vegan)', 'appetizers', 'fried gyoza', 'appetizers', 'takoyaki', 'appetizers', 'rock shrimp tempura', 'appetizers', 'soft-shell crab tempura', 'appetizers', 'ebi katsu shrimp bao', 'appetizers', 'nagomi shoyu', 'entree', 'shio ramen', 'entree', 'spicy miso ramen', 'entree', 'vegetarian spicy miso', 'entree', 'miso crab ramen', 'entree']\n",
      "['edamame', 'appetizers', 'house salad', 'appetizers', 'cucumber sunomono salad', 'appetizers', 'hiyashi wakame seaweed salad', 'appetizers', 'agedashi tofu', 'appetizers', 'hiyayakko tofu', 'appetizers', 'pork floss bao', 'appetizers', 'kakuni bao', 'appetizers', 'edamame fried gyoza (vegan)', 'appetizers', 'fried gyoza', 'appetizers', 'takoyaki', 'appetizers', 'rock shrimp tempura', 'appetizers', 'soft-shell crab tempura', 'appetizers', 'ebi katsu shrimp bao', 'appetizers', 'nagomi shoyu', 'entree', 'shio ramen', 'entree', 'spicy miso ramen', 'entree', 'vegetarian spicy miso', 'entree', 'miso crab ramen', 'entree', 'soft-shell miso crab ramen', 'entree']\n",
      "['edamame', 'appetizers', 'house salad', 'appetizers', 'cucumber sunomono salad', 'appetizers', 'hiyashi wakame seaweed salad', 'appetizers', 'agedashi tofu', 'appetizers', 'hiyayakko tofu', 'appetizers', 'pork floss bao', 'appetizers', 'kakuni bao', 'appetizers', 'edamame fried gyoza (vegan)', 'appetizers', 'fried gyoza', 'appetizers', 'takoyaki', 'appetizers', 'rock shrimp tempura', 'appetizers', 'soft-shell crab tempura', 'appetizers', 'ebi katsu shrimp bao', 'appetizers', 'nagomi shoyu', 'entree', 'shio ramen', 'entree', 'spicy miso ramen', 'entree', 'vegetarian spicy miso', 'entree', 'miso crab ramen', 'entree', 'soft-shell miso crab ramen', 'entree', 'tori paitan ramen', 'entree']\n",
      "['edamame', 'appetizers', 'house salad', 'appetizers', 'cucumber sunomono salad', 'appetizers', 'hiyashi wakame seaweed salad', 'appetizers', 'agedashi tofu', 'appetizers', 'hiyayakko tofu', 'appetizers', 'pork floss bao', 'appetizers', 'kakuni bao', 'appetizers', 'edamame fried gyoza (vegan)', 'appetizers', 'fried gyoza', 'appetizers', 'takoyaki', 'appetizers', 'rock shrimp tempura', 'appetizers', 'soft-shell crab tempura', 'appetizers', 'ebi katsu shrimp bao', 'appetizers', 'nagomi shoyu', 'entree', 'shio ramen', 'entree', 'spicy miso ramen', 'entree', 'vegetarian spicy miso', 'entree', 'miso crab ramen', 'entree', 'soft-shell miso crab ramen', 'entree', 'tori paitan ramen', 'entree', 'tonkotsu ramen', 'entree']\n",
      "['edamame', 'appetizers', 'house salad', 'appetizers', 'cucumber sunomono salad', 'appetizers', 'hiyashi wakame seaweed salad', 'appetizers', 'agedashi tofu', 'appetizers', 'hiyayakko tofu', 'appetizers', 'pork floss bao', 'appetizers', 'kakuni bao', 'appetizers', 'edamame fried gyoza (vegan)', 'appetizers', 'fried gyoza', 'appetizers', 'takoyaki', 'appetizers', 'rock shrimp tempura', 'appetizers', 'soft-shell crab tempura', 'appetizers', 'ebi katsu shrimp bao', 'appetizers', 'nagomi shoyu', 'entree', 'shio ramen', 'entree', 'spicy miso ramen', 'entree', 'vegetarian spicy miso', 'entree', 'miso crab ramen', 'entree', 'soft-shell miso crab ramen', 'entree', 'tori paitan ramen', 'entree', 'tonkotsu ramen', 'entree', 'burnt garlic tonkotsu ramen', 'entree']\n",
      "['edamame', 'appetizers', 'house salad', 'appetizers', 'cucumber sunomono salad', 'appetizers', 'hiyashi wakame seaweed salad', 'appetizers', 'agedashi tofu', 'appetizers', 'hiyayakko tofu', 'appetizers', 'pork floss bao', 'appetizers', 'kakuni bao', 'appetizers', 'edamame fried gyoza (vegan)', 'appetizers', 'fried gyoza', 'appetizers', 'takoyaki', 'appetizers', 'rock shrimp tempura', 'appetizers', 'soft-shell crab tempura', 'appetizers', 'ebi katsu shrimp bao', 'appetizers', 'nagomi shoyu', 'entree', 'shio ramen', 'entree', 'spicy miso ramen', 'entree', 'vegetarian spicy miso', 'entree', 'miso crab ramen', 'entree', 'soft-shell miso crab ramen', 'entree', 'tori paitan ramen', 'entree', 'tonkotsu ramen', 'entree', 'burnt garlic tonkotsu ramen', 'entree', 'vegetarian curry + king trumpet mushroom ramen', 'entree']\n",
      "['edamame', 'appetizers', 'house salad', 'appetizers', 'cucumber sunomono salad', 'appetizers', 'hiyashi wakame seaweed salad', 'appetizers', 'agedashi tofu', 'appetizers', 'hiyayakko tofu', 'appetizers', 'pork floss bao', 'appetizers', 'kakuni bao', 'appetizers', 'edamame fried gyoza (vegan)', 'appetizers', 'fried gyoza', 'appetizers', 'takoyaki', 'appetizers', 'rock shrimp tempura', 'appetizers', 'soft-shell crab tempura', 'appetizers', 'ebi katsu shrimp bao', 'appetizers', 'nagomi shoyu', 'entree', 'shio ramen', 'entree', 'spicy miso ramen', 'entree', 'vegetarian spicy miso', 'entree', 'miso crab ramen', 'entree', 'soft-shell miso crab ramen', 'entree', 'tori paitan ramen', 'entree', 'tonkotsu ramen', 'entree', 'burnt garlic tonkotsu ramen', 'entree', 'vegetarian curry + king trumpet mushroom ramen', 'entree', 'truffle butter ramen', 'entree']\n",
      "['edamame', 'appetizers', 'house salad', 'appetizers', 'cucumber sunomono salad', 'appetizers', 'hiyashi wakame seaweed salad', 'appetizers', 'agedashi tofu', 'appetizers', 'hiyayakko tofu', 'appetizers', 'pork floss bao', 'appetizers', 'kakuni bao', 'appetizers', 'edamame fried gyoza (vegan)', 'appetizers', 'fried gyoza', 'appetizers', 'takoyaki', 'appetizers', 'rock shrimp tempura', 'appetizers', 'soft-shell crab tempura', 'appetizers', 'ebi katsu shrimp bao', 'appetizers', 'nagomi shoyu', 'entree', 'shio ramen', 'entree', 'spicy miso ramen', 'entree', 'vegetarian spicy miso', 'entree', 'miso crab ramen', 'entree', 'soft-shell miso crab ramen', 'entree', 'tori paitan ramen', 'entree', 'tonkotsu ramen', 'entree', 'burnt garlic tonkotsu ramen', 'entree', 'vegetarian curry + king trumpet mushroom ramen', 'entree', 'truffle butter ramen', 'entree', 'green tea', 'drinks']\n",
      "['edamame', 'appetizers', 'house salad', 'appetizers', 'cucumber sunomono salad', 'appetizers', 'hiyashi wakame seaweed salad', 'appetizers', 'agedashi tofu', 'appetizers', 'hiyayakko tofu', 'appetizers', 'pork floss bao', 'appetizers', 'kakuni bao', 'appetizers', 'edamame fried gyoza (vegan)', 'appetizers', 'fried gyoza', 'appetizers', 'takoyaki', 'appetizers', 'rock shrimp tempura', 'appetizers', 'soft-shell crab tempura', 'appetizers', 'ebi katsu shrimp bao', 'appetizers', 'nagomi shoyu', 'entree', 'shio ramen', 'entree', 'spicy miso ramen', 'entree', 'vegetarian spicy miso', 'entree', 'miso crab ramen', 'entree', 'soft-shell miso crab ramen', 'entree', 'tori paitan ramen', 'entree', 'tonkotsu ramen', 'entree', 'burnt garlic tonkotsu ramen', 'entree', 'vegetarian curry + king trumpet mushroom ramen', 'entree', 'truffle butter ramen', 'entree', 'green tea', 'drinks', 'coke', 'drinks']\n",
      "['edamame', 'appetizers', 'house salad', 'appetizers', 'cucumber sunomono salad', 'appetizers', 'hiyashi wakame seaweed salad', 'appetizers', 'agedashi tofu', 'appetizers', 'hiyayakko tofu', 'appetizers', 'pork floss bao', 'appetizers', 'kakuni bao', 'appetizers', 'edamame fried gyoza (vegan)', 'appetizers', 'fried gyoza', 'appetizers', 'takoyaki', 'appetizers', 'rock shrimp tempura', 'appetizers', 'soft-shell crab tempura', 'appetizers', 'ebi katsu shrimp bao', 'appetizers', 'nagomi shoyu', 'entree', 'shio ramen', 'entree', 'spicy miso ramen', 'entree', 'vegetarian spicy miso', 'entree', 'miso crab ramen', 'entree', 'soft-shell miso crab ramen', 'entree', 'tori paitan ramen', 'entree', 'tonkotsu ramen', 'entree', 'burnt garlic tonkotsu ramen', 'entree', 'vegetarian curry + king trumpet mushroom ramen', 'entree', 'truffle butter ramen', 'entree', 'green tea', 'drinks', 'coke', 'drinks', 'black sesame ice cream', 'desserts']\n",
      "['edamame', 'appetizers', 'house salad', 'appetizers', 'cucumber sunomono salad', 'appetizers', 'hiyashi wakame seaweed salad', 'appetizers', 'agedashi tofu', 'appetizers', 'hiyayakko tofu', 'appetizers', 'pork floss bao', 'appetizers', 'kakuni bao', 'appetizers', 'edamame fried gyoza (vegan)', 'appetizers', 'fried gyoza', 'appetizers', 'takoyaki', 'appetizers', 'rock shrimp tempura', 'appetizers', 'soft-shell crab tempura', 'appetizers', 'ebi katsu shrimp bao', 'appetizers', 'nagomi shoyu', 'entree', 'shio ramen', 'entree', 'spicy miso ramen', 'entree', 'vegetarian spicy miso', 'entree', 'miso crab ramen', 'entree', 'soft-shell miso crab ramen', 'entree', 'tori paitan ramen', 'entree', 'tonkotsu ramen', 'entree', 'burnt garlic tonkotsu ramen', 'entree', 'vegetarian curry + king trumpet mushroom ramen', 'entree', 'truffle butter ramen', 'entree', 'green tea', 'drinks', 'coke', 'drinks', 'black sesame ice cream', 'desserts', 'matcha ice cream', 'desserts']\n",
      "['edamame', 'appetizers', 'house salad', 'appetizers', 'cucumber sunomono salad', 'appetizers', 'hiyashi wakame seaweed salad', 'appetizers', 'agedashi tofu', 'appetizers', 'hiyayakko tofu', 'appetizers', 'pork floss bao', 'appetizers', 'kakuni bao', 'appetizers', 'edamame fried gyoza (vegan)', 'appetizers', 'fried gyoza', 'appetizers', 'takoyaki', 'appetizers', 'rock shrimp tempura', 'appetizers', 'soft-shell crab tempura', 'appetizers', 'ebi katsu shrimp bao', 'appetizers', 'nagomi shoyu', 'entree', 'shio ramen', 'entree', 'spicy miso ramen', 'entree', 'vegetarian spicy miso', 'entree', 'miso crab ramen', 'entree', 'soft-shell miso crab ramen', 'entree', 'tori paitan ramen', 'entree', 'tonkotsu ramen', 'entree', 'burnt garlic tonkotsu ramen', 'entree', 'vegetarian curry + king trumpet mushroom ramen', 'entree', 'truffle butter ramen', 'entree', 'green tea', 'drinks', 'coke', 'drinks', 'black sesame ice cream', 'desserts', 'matcha ice cream', 'desserts', 'mango mochi ice cream', 'desserts']\n",
      "['edamame', 'appetizers', 'house salad', 'appetizers', 'cucumber sunomono salad', 'appetizers', 'hiyashi wakame seaweed salad', 'appetizers', 'agedashi tofu', 'appetizers', 'hiyayakko tofu', 'appetizers', 'pork floss bao', 'appetizers', 'kakuni bao', 'appetizers', 'edamame fried gyoza (vegan)', 'appetizers', 'fried gyoza', 'appetizers', 'takoyaki', 'appetizers', 'rock shrimp tempura', 'appetizers', 'soft-shell crab tempura', 'appetizers', 'ebi katsu shrimp bao', 'appetizers', 'nagomi shoyu', 'entree', 'shio ramen', 'entree', 'spicy miso ramen', 'entree', 'vegetarian spicy miso', 'entree', 'miso crab ramen', 'entree', 'soft-shell miso crab ramen', 'entree', 'tori paitan ramen', 'entree', 'tonkotsu ramen', 'entree', 'burnt garlic tonkotsu ramen', 'entree', 'vegetarian curry + king trumpet mushroom ramen', 'entree', 'truffle butter ramen', 'entree', 'green tea', 'drinks', 'coke', 'drinks', 'black sesame ice cream', 'desserts', 'matcha ice cream', 'desserts', 'mango mochi ice cream', 'desserts', 'strawberry mochi ice cream', 'desserts']\n",
      "['edamame', 'appetizers', 'house salad', 'appetizers', 'cucumber sunomono salad', 'appetizers', 'hiyashi wakame seaweed salad', 'appetizers', 'agedashi tofu', 'appetizers', 'hiyayakko tofu', 'appetizers', 'pork floss bao', 'appetizers', 'kakuni bao', 'appetizers', 'edamame fried gyoza (vegan)', 'appetizers', 'fried gyoza', 'appetizers', 'takoyaki', 'appetizers', 'rock shrimp tempura', 'appetizers', 'soft-shell crab tempura', 'appetizers', 'ebi katsu shrimp bao', 'appetizers', 'nagomi shoyu', 'entree', 'shio ramen', 'entree', 'spicy miso ramen', 'entree', 'vegetarian spicy miso', 'entree', 'miso crab ramen', 'entree', 'soft-shell miso crab ramen', 'entree', 'tori paitan ramen', 'entree', 'tonkotsu ramen', 'entree', 'burnt garlic tonkotsu ramen', 'entree', 'vegetarian curry + king trumpet mushroom ramen', 'entree', 'truffle butter ramen', 'entree', 'green tea', 'drinks', 'coke', 'drinks', 'black sesame ice cream', 'desserts', 'matcha ice cream', 'desserts', 'mango mochi ice cream', 'desserts', 'strawberry mochi ice cream', 'desserts', 'black sesame creme brulee', 'desserts']\n"
     ]
    }
   ],
   "source": [
    "import csv\n",
    "from pathlib import Path\n",
    "\n",
    "menu_filepath = Path(\"../PyRamen/menu_data.csv\")\n",
    "sales_filepath = Path(\"../PyRamen/sales_data.csv\")\n",
    "\n",
    "menu = []\n",
    "sales = []\n",
    "\n",
    "with open(menu_filepath,newline=\"\", encoding=\"utf-8\") as menu_data:\n",
    "    csv_reader = csv.reader(menu_data,delimiter=\",\") \n",
    "    header = next(csv_reader)  \n",
    "    for row in csv_reader: \n",
    "        menu.append(row[0])\n",
    "        menu.append(row[1])\n",
    "        print(menu)\n",
    "        \n",
    "\n",
    "#with open(sales_filepath,newline=\"\", encoding=\"utf-8\") as sales_data:\n",
    "#    csv_reader = csv.reader(sales_data,delimiter=\",\") \n",
    "#    header = next(csv_reader)  \n",
    "#    for row in csv_reader: \n",
    "#        sales.append(row[0])\n",
    "#        sales.append(row[1])\n",
    "        \n",
    "#print(sales)"
   ]
  },
  {
   "cell_type": "code",
   "execution_count": null,
   "metadata": {},
   "outputs": [],
   "source": []
  }
 ],
 "metadata": {
  "kernelspec": {
   "display_name": "Python 3",
   "language": "python",
   "name": "python3"
  },
  "language_info": {
   "codemirror_mode": {
    "name": "ipython",
    "version": 3
   },
   "file_extension": ".py",
   "mimetype": "text/x-python",
   "name": "python",
   "nbconvert_exporter": "python",
   "pygments_lexer": "ipython3",
   "version": "3.7.6"
  }
 },
 "nbformat": 4,
 "nbformat_minor": 4
}
