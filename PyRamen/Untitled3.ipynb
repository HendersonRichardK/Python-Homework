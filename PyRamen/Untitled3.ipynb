{
 "cells": [
  {
   "cell_type": "code",
   "execution_count": 1,
   "metadata": {},
   "outputs": [],
   "source": [
    "import csv\n",
    "from pathlib import Path\n",
    "import pandas as pd\n",
    "import numpy as np"
   ]
  },
  {
   "cell_type": "code",
   "execution_count": 2,
   "metadata": {},
   "outputs": [],
   "source": [
    "menu_filepath = Path(\"../PyRamen/menu_data.csv\")\n",
    "sales_filepath = Path(\"../PyRamen/sales_data.csv\")"
   ]
  },
  {
   "cell_type": "code",
   "execution_count": 9,
   "metadata": {},
   "outputs": [],
   "source": [
    "menu_data_frame = pd.read_csv(menu_filepath)\n",
    "sales_data_frame = pd.read_csv(sales_filepath)"
   ]
  },
  {
   "cell_type": "code",
   "execution_count": 15,
   "metadata": {},
   "outputs": [
    {
     "name": "stdout",
     "output_type": "stream",
     "text": [
      "                           item    category  \\\n",
      "0                       edamame  appetizers   \n",
      "1                   house salad  appetizers   \n",
      "2       cucumber sunomono salad  appetizers   \n",
      "3  hiyashi wakame seaweed salad  appetizers   \n",
      "4                 agedashi tofu  appetizers   \n",
      "\n",
      "                                         description  price  cost  \n",
      "0                   boiled soybeans, maldon sea salt    4.0     1  \n",
      "1  mixed greens, cherry tomatoes, cucumber, house...    4.0     2  \n",
      "2  cucumber, ponzu dressing, pickled ginger sprou...    5.0     2  \n",
      "3  sweet soy-marinated wakame seaweed threads, pi...    5.0     2  \n",
      "4  tempura battered tofu, katsuobushi, tsuyu brot...    5.0     2  \n",
      "   Line_Item_ID        Date  Credit_Card_Number  Quantity  \\\n",
      "0             1  01-01-2017    7437926611570799         1   \n",
      "1             2  01-01-2017    7437926611570799         1   \n",
      "2             3  01-01-2017    8421920068932819         3   \n",
      "3             4  01-01-2017    8421920068932819         3   \n",
      "4             5  01-01-2017    4787310681569648         1   \n",
      "\n",
      "              Menu_Item  \n",
      "0      spicy miso ramen  \n",
      "1      spicy miso ramen  \n",
      "2     tori paitan ramen  \n",
      "3     tori paitan ramen  \n",
      "4  truffle butter ramen  \n"
     ]
    }
   ],
   "source": [
    "print(menu_data_frame.head())\n",
    "print(sales_data_frame.head())\n",
    "\n",
    "# @TODO: Initialize dict object to hold our key-value pairs of items and metrics\n",
    "report = {}\n",
    "\n",
    "# Initialize a row counter variable\n",
    "row_count = 0\n",
    "\n",
    "# @TODO: Loop over every row in the sales list object\n",
    "sales_item\n",
    "{\n",
    "\"01-count\": 0,\n",
    "\"02-revenue\": 0,\n",
    "\"03-cogs\": 0,\n",
    "\"04-profit\": 0,\n",
    "}\n"
   ]
  },
  {
   "cell_type": "code",
   "execution_count": null,
   "metadata": {},
   "outputs": [],
   "source": []
  }
 ],
 "metadata": {
  "kernelspec": {
   "display_name": "Python 3",
   "language": "python",
   "name": "python3"
  },
  "language_info": {
   "codemirror_mode": {
    "name": "ipython",
    "version": 3
   },
   "file_extension": ".py",
   "mimetype": "text/x-python",
   "name": "python",
   "nbconvert_exporter": "python",
   "pygments_lexer": "ipython3",
   "version": "3.7.6"
  }
 },
 "nbformat": 4,
 "nbformat_minor": 4
}
