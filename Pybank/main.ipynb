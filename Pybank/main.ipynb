{
 "cells": [
  {
   "cell_type": "code",
   "execution_count": 4,
   "metadata": {},
   "outputs": [
    {
     "name": "stdout",
     "output_type": "stream",
     "text": [
      "Financial Analysis\n",
      "----------------------------\n",
      "Total Months: 86\n",
      "Total: $38382578\n",
      "Average Change: -2315.12\n",
      "Greatest Increase in Profits: Feb-12 ($1926159)\n",
      "Greatest Decrease in Profits: Sep-13 ($-2196167)\n"
     ]
    }
   ],
   "source": [
    "import os, csv\n",
    "from pathlib import Path \n",
    "\n",
    "bd = Path(\"../Pybank/budget_data.csv\")\n",
    "\n",
    "months = []\n",
    "profit = []\n",
    "profit_change = []\n",
    " \n",
    "with open(bd,newline=\"\", encoding=\"utf-8\") as budget:\n",
    "    csv_reader = csv.reader(budget,delimiter=\",\") \n",
    "    header = next(csv_reader)  \n",
    "    for row in csv_reader: \n",
    "        months.append(row[0])\n",
    "        profit.append(int(row[1]))\n",
    "\n",
    "    for x in range(len(profit)-1):\n",
    "        profit_change.append(profit[x+1]-profit[x])\n",
    "        \n",
    "max_inc_value = max(profit_change)\n",
    "max_dec_value = min(profit_change)\n",
    "\n",
    "max_inc_month = profit_change.index(max(profit_change)) + 1\n",
    "max_dec_month = profit_change.index(min(profit_change)) + 1 \n",
    "\n",
    "print(\"Financial Analysis\")\n",
    "print(\"----------------------------\")\n",
    "print(f\"Total Months: {len(months)}\")\n",
    "print(f\"Total: ${sum(profit)}\")\n",
    "print(f\"Average Change: {round(sum(profit_change)/len(profit_change),2)}\")\n",
    "print(f\"Greatest Increase in Profits: {months[max_inc_month]} (${(str(max_inc_value))})\")\n",
    "print(f\"Greatest Decrease in Profits: {months[max_dec_month]} (${(str(max_dec_value))})\")\n",
    "\n",
    "output_file = Path(\"../Pybank/Financial_Analysis.txt\")\n",
    "\n",
    "with open(output_file,\"w\") as file:\n",
    "    \n",
    "# Financial_Analysis_Summary \n",
    "    file.write(\"Financial Analysis Summary\")\n",
    "    file.write(\"\\n\")\n",
    "    file.write(\"----------------------------\")\n",
    "    file.write(\"\\n\")\n",
    "    file.write(f\"Total Months: {len(months)}\")\n",
    "    file.write(\"\\n\")\n",
    "    file.write(f\"Total: ${sum(profit)}\")\n",
    "    file.write(\"\\n\")\n",
    "    file.write(f\"Average Change: {round(sum(profit_change)/len(profit_change),2)}\")\n",
    "    file.write(\"\\n\")\n",
    "    file.write(f\"Greatest Increase in Profits: {months[max_inc_month]} (${(str(max_inc_value))})\")\n",
    "    file.write(\"\\n\")\n",
    "    file.write(f\"Greatest Decrease in Profits: {months[max_dec_month]} (${(str(max_dec_value))})\")\n",
    "    \n",
    "\n",
    "\n"
   ]
  },
  {
   "cell_type": "code",
   "execution_count": null,
   "metadata": {},
   "outputs": [],
   "source": []
  }
 ],
 "metadata": {
  "kernelspec": {
   "display_name": "Python 3",
   "language": "python",
   "name": "python3"
  },
  "language_info": {
   "codemirror_mode": {
    "name": "ipython",
    "version": 3
   },
   "file_extension": ".py",
   "mimetype": "text/x-python",
   "name": "python",
   "nbconvert_exporter": "python",
   "pygments_lexer": "ipython3",
   "version": "3.7.6"
  }
 },
 "nbformat": 4,
 "nbformat_minor": 4
}
